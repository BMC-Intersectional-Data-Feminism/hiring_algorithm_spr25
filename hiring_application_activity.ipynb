{
 "cells": [
  {
   "cell_type": "markdown",
   "metadata": {},
   "source": [
    "# Week 3 Activity: Reflection on a Hiring Filter Algorithm \n",
    "Activity adapted from exercise developed by [Evan Peck](https://evanpeck.github.io/)\n",
    "\n",
    "## Scenario: Moogle’s Hiring Filter\n",
    "Imagine you are working for Moogle, a well-known tech company that receives tens of thousands of job applications from graduating seniors every year. Since the company receives too many job applications for HR to individually assess in a reasonable amount of time, you are asked to create a program that algorithmically analyzes applications and selects the ones most worth passing onto HR.\n",
    "\n",
    "\n",
    "\n",
    "### Applicant Data\n",
    "It’s difficult to create these first-pass cuts, so Moogle designs their application forms to get some numerical data about their applicants’ education. Job applicants must enter the grades they received in 6 core CS courses, as well as their overall GPA. For your convenience, this will be stored in a python `list` that you can access. \n",
    "\n",
    "For example, a student who received the following scores. . .\n",
    "- Intro to CS: 100\n",
    "- Data Structures: 95\n",
    "- Software Engineering: 80\n",
    "- Algorithms: 89\n",
    "- Computer Organization: 91\n",
    "- Operative Systems: 75\n",
    "- Overall GPA: 83\n",
    "\n",
    ". . . would result in the following list: `[100, 95, 80, 89, 91, 75, 83]`. You can assume that index `0` is always Intro to CS, `1` is always Data Structures, and so on.\n",
    "\n",
    "Because you are processing many applications, your program will receive a list of lists. For example, this would be the information for 3 applicants:\n",
    "\n",
    "`[ [100, 95, 80, 89, 91, 75, 83], [75, 80, 85, 90, 85, 88, 90], [85, 70, 99, 100, 81, 82, 91] ]`"
   ]
  },
  {
   "cell_type": "markdown",
   "metadata": {},
   "source": [
    "### Your Task\n",
    "Your job is to:\n",
    "1. Determine how you are going to select the top applicants to pass onto HR.\n",
    "2. Given a list of applicant data (a list of lists), write code to identify a new list of worthwhile candidates."
   ]
  },
  {
   "cell_type": "markdown",
   "metadata": {},
   "source": [
    "### The Data \n",
    "\n",
    "Before we use the entire dataset of applications, we're going to write and test our code using a much smaller sample of the dataset. This will be saved in `sample_data` and contain only ten applicant lists. Notice how this is just a list of lists with each list being a unique applicant. "
   ]
  },
  {
   "cell_type": "code",
   "execution_count": 1,
   "metadata": {},
   "outputs": [],
   "source": [
    "sample_data = [[93, 89, 63, 88, 60, 73, 80], [100, 63, 57, 96, 58, 71, 78], [81, 91, 99, 78, 57, 87, 86], [81, 73, 100, 57, 91, 60, 66], [86, 89, 64, 81, 69, 93, 92], [78, 63, 88, 95, 59, 98, 90], [55, 74, 68, 55, 69, 94, 80], [64, 77, 75, 92, 77, 72, 83], [95, 58, 92, 62, 77, 64, 59], [94, 78, 84, 83, 68, 63, 76]]"
   ]
  },
  {
   "cell_type": "code",
   "execution_count": null,
   "metadata": {},
   "outputs": [],
   "source": [
    "len(sample_data)"
   ]
  },
  {
   "cell_type": "markdown",
   "metadata": {},
   "source": [
    "Now let's take a look at the entire dataset of 5,000 applications. This is saved in another file so we're going to go ahead and load this into memory and then take a look at the data. Notice that it's formatted exactly the same as the sample data as a list of lists!"
   ]
  },
  {
   "cell_type": "code",
   "execution_count": 5,
   "metadata": {},
   "outputs": [],
   "source": [
    "from applications import *"
   ]
  },
  {
   "cell_type": "code",
   "execution_count": null,
   "metadata": {},
   "outputs": [],
   "source": [
    "applications"
   ]
  },
  {
   "cell_type": "code",
   "execution_count": null,
   "metadata": {},
   "outputs": [],
   "source": [
    "len(applications)"
   ]
  },
  {
   "cell_type": "markdown",
   "metadata": {},
   "source": [
    "### Algorithms \n",
    "\n",
    "Now we're going to write algorithms to select applicants based on a variety of decisions. For each one, take note of how many applicants are passed onto the next stage of the application process. Think through the decisions being made and how these decisions might enforce or reduce systemic and cultural oppression. \n",
    "\n",
    "1. Selects applicants that have an overall GPA above 80\n",
    "2. Selects applicants that have no grade below 65\n",
    "3. Selects applicants that have at least 5 grades above 80\n",
    "4. Selects applicants that have an average of the six classes above 85\n",
    "5. Your own algorithm to select applicants "
   ]
  },
  {
   "cell_type": "code",
   "execution_count": null,
   "metadata": {},
   "outputs": [],
   "source": [
    "selection = ... ## create a list to hold the selected applicants\n"
   ]
  },
  {
   "cell_type": "markdown",
   "metadata": {},
   "source": [
    "How many applicants did we select with this filter? What percentage of our total sample size is that?  \n",
    "\n",
    "Let's try another potential algorithm where we select applicants that have no grade below a 65. "
   ]
  },
  {
   "cell_type": "code",
   "execution_count": null,
   "metadata": {},
   "outputs": [],
   "source": [
    "selection = list() ## create a list to hold the selected applicants\n",
    "\n",
    "for application in sample_data: ## loops through every applicant in sample data \n",
    "    \n",
    "\n",
    "selection "
   ]
  },
  {
   "cell_type": "markdown",
   "metadata": {},
   "source": [
    "Now let's try to create a filter for selecting applicants that have at least five grades above 85. **Hint**: A counter can be useful here! "
   ]
  },
  {
   "cell_type": "code",
   "execution_count": null,
   "metadata": {},
   "outputs": [],
   "source": []
  },
  {
   "cell_type": "markdown",
   "metadata": {},
   "source": [
    "Finally, let's write a algorithm that selects applicants if they have an average grade of at least 85 across their six classes. "
   ]
  },
  {
   "cell_type": "code",
   "execution_count": null,
   "metadata": {},
   "outputs": [],
   "source": []
  },
  {
   "cell_type": "markdown",
   "metadata": {},
   "source": [
    "In the space below, work in group to decide what types of criteria you want to use to write an algorithm to select applicants. First test it with the sample data then run it with the entire set of applicants.  \n",
    "\n",
    "A useful piece of code that will give you the percentage of applicants you kept is: \n",
    "\n",
    "`print(\"Your algorithm kept\", round(len(selection)/len(applications)*100), \"percent of applicants\")`"
   ]
  },
  {
   "cell_type": "code",
   "execution_count": null,
   "metadata": {},
   "outputs": [],
   "source": [
    "## your algorithm "
   ]
  },
  {
   "cell_type": "markdown",
   "metadata": {},
   "source": [
    "Questions to Answer: \n",
    "1. What criteria did you choose to select finalists? How did you choose that criteria?\n",
    "2. Roughly what percentage of applicants does your algorithm pass on as finalists? Is that enough? If Moogle asked you to take a more aggressive approach with your algorithm, are there any tradeoffs?"
   ]
  },
  {
   "cell_type": "markdown",
   "metadata": {},
   "source": [
    "___\n",
    "While our data seemed to perfectly reported and without any inconsitencies, the world is less perfect. Consider the following scenarios: \n",
    "\n",
    "___\n",
    "*Story 1*: Misread the Instructions\n",
    "What if an excellent applicant thinks they should put in letter grades?\n",
    "\n",
    "`[‘A’, ‘A’, ‘A’, ‘A’, ‘A’, ‘A’, ‘A’]`\n",
    "\n",
    ". . . or how about their grades on 4-point scale?\n",
    "\n",
    "`[4, 3.9, 4, 4, 3.95, 4, 3.9]`\n",
    "\n",
    "___\n",
    "*Story 2*: Bad Assumptions\n",
    "What if one of your applicants skipped Intro to Computer Science? When they saw your form, they froze, and decided that putting -1 in the input field would make it obvious. . .\n",
    "\n",
    "`[-1, 95, 99, 94, 96, 98, 95]`\n",
    "\n",
    "___\n",
    "*Story 3*: Mistake in the Input\n",
    "What if one of your applicants accidentally put in a number > 100?\n",
    "\n",
    "`[681, 68, 73, 70, 81, 91, 59]`\n",
    "\n",
    "That might seem easy enough for a program to catch, but what if they accidentally dropped a 0?\n",
    "\n",
    "`[100, 100, 100, 100, 100, 100, 10]`\n",
    "\n",
    "A person would catch that mistake easily, does your algorithm?\n",
    "\n",
    "___\n",
    "*Story 4*: The Awful Semester\n",
    "What if your applicant had a medical emergency one semester? Or a personal tragedy?\n",
    "\n",
    "`[95, 93, 50, 91, 98, 90, 90]`\n",
    "\n",
    "___\n",
    "*Story 5*: Inverse Trajectories\n",
    "What if one of your applicants came from an underprivileged background and really struggled at the beginning of college. . . but showed extraordinary growth by the end?\n",
    "\n",
    "`[65, 75, 85, 95, 100, 100, 80]`\n",
    "\n",
    "What if one of your applicants came to college with extraordinary potential? They easily aced their first few classes and then gradually grew apathetic about their education - getting nothing but barely-passing grades by the time they were a senior?\n",
    "\n",
    "`[100, 100, 95, 85, 75, 65, 80]`\n",
    "\n",
    "Does your algorithm treat them equally?\n",
    "\n",
    "___"
   ]
  },
  {
   "cell_type": "markdown",
   "metadata": {},
   "source": [
    "Complete the following questions reflecting on these scenarios:\n",
    "\n",
    "3. What systemic advantages/disadvantages are your algorithms likely to amplify?\n",
    "\n",
    "4. What does it mean to design a fair algorithm?\n",
    "\n",
    "5. If you had access to additional data beyond grades (e.g., extracurricular activities, internships, letters of recommendation), how might you incorporate it into your selection process? Would it make your algorithm fairer or introduce new biases?\n",
    "\n",
    "6. How do current hiring filter algorithms work? What problems do they encounter? How do these algorithms broadly compare to the ones we wrote today? (Some example articles discussing hiring filters linked below in citations but you're not limited to these examples) \n"
   ]
  },
  {
   "cell_type": "markdown",
   "metadata": {},
   "source": [
    "Citations: \n",
    "\n",
    "Stacy A. Doore, Casey Fiesler, Michael S. Kirkpatrick, Evan Peck, and Mehran Sahami. 2020. Assignments that Blend Ethics and Technology. In Proceedings of the 51st ACM Technical Symposium on Computer Science Education (SIGCSE ‘20). Association for Computing Machinery, New York, NY, USA, 475–476. DOI:https://doi.org/10.1145/3328778.3366994\n",
    "\n",
    "[Amazon scraps secret AI recruiting tool that showed bias against women](https://www.reuters.com/article/us-amazon-com-jobs-automation-insight/amazon-scraps-secret-ai-recruiting-tool-that-showed-bias-against-women-idUSKCN1MK08G/)\n",
    "\n",
    "[Hiring Algorithms Are Not Neutral](https://hbr.org/2016/12/hiring-algorithms-are-not-neutral)\n",
    "\n",
    "[Can an Algorithm Hire Better Than a Human?](https://www.nytimes.com/2015/06/26/upshot/can-an-algorithm-hire-better-than-a-human.html)\n",
    "\n",
    "[Algorithms in Hiring](https://blog.learningcollider.org/algorithms-in-hiring-6760ea8869b)\n",
    "\n",
    "[Exploration-based algorithms can improve hiring quality and diversity](https://mitsloan.mit.edu/ideas-made-to-matter/exploration-based-algorithms-can-improve-hiring-quality-and-diversity)\n",
    "\n",
    "[AI hiring tools may be filtering out the best job applicants](https://www.bbc.com/worklife/article/20240214-ai-recruiting-hiring-software-bias-discrimination)\n",
    "\n",
    "[Challenges for mitigating bias in algorithmic hiring](https://www.brookings.edu/articles/challenges-for-mitigating-bias-in-algorithmic-hiring/)\n",
    "\n"
   ]
  }
 ],
 "metadata": {
  "kernelspec": {
   "display_name": "Python 3",
   "language": "python",
   "name": "python3"
  },
  "language_info": {
   "codemirror_mode": {
    "name": "ipython",
    "version": 3
   },
   "file_extension": ".py",
   "mimetype": "text/x-python",
   "name": "python",
   "nbconvert_exporter": "python",
   "pygments_lexer": "ipython3",
   "version": "3.12.1"
  }
 },
 "nbformat": 4,
 "nbformat_minor": 2
}
